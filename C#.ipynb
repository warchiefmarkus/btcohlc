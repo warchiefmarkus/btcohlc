{
 "cells": [
  {
   "cell_type": "code",
   "execution_count": null,
   "metadata": {
    "dotnet_interactive": {
     "language": "csharp"
    },
    "polyglot_notebook": {
     "kernelName": "csharp"
    }
   },
   "outputs": [],
   "source": [
    "using System.IO;\n",
    "using System.Text.Json.Serialization;\n",
    "using System.Text.Json;\n",
    "using System.Text.Json.Nodes;\n",
    "using System.Threading;\n",
    "\n",
    "public static class Settings\n",
    "{\n",
    "    private static readonly ReaderWriterLockSlim locker = new();\n",
    "\n",
    "    public static JsonElement ROUND_INFO { get; set; }\n",
    "    public static JsonElement ROUND_STRADDLE_INFO { get; set; }\n",
    "    public static JsonNode SETTINGS { get; set; }\n",
    "\n",
    "    public static void LoadSettings(string settings_path, string round_path, string round_straddle_path)\n",
    "    {\n",
    "        ROUND_INFO = JsonDocument.Parse(File.ReadAllText(Environment.CurrentDirectory + \"\\\\\" + round_path)).RootElement;\n",
    "        ROUND_STRADDLE_INFO = JsonDocument.Parse(File.ReadAllText(Environment.CurrentDirectory + \"\\\\\" + round_straddle_path)).RootElement;\n",
    "        SETTINGS = JsonNode.Parse(File.ReadAllText(Environment.CurrentDirectory + \"\\\\\" + settings_path));\n",
    "    }\n",
    "\n",
    "    public static void WriteSettings(string pathToSettingsJsonFile)\n",
    "    {\n",
    "        try\n",
    "        {\n",
    "            locker.EnterWriteLock();\n",
    "            JsonSerializerOptions options = new JsonSerializerOptions { WriteIndented = true };\n",
    "            File.WriteAllText(Path.Combine(Environment.CurrentDirectory, pathToSettingsJsonFile), JsonSerializer.Serialize(SETTINGS, options));\n",
    "        }\n",
    "        finally\n",
    "        {\n",
    "            locker.ExitWriteLock();\n",
    "        }\n",
    "    }\n",
    "}\n",
    "\n",
    "// Settings.SETTINGS = JsonDocument.Parse(\"{\\\"name\\\":\\\"John Smith\\\",\\\"age\\\":35}\").RootElement;\n",
    "// Settings.WriteSettings(\"test.json\");\n",
    "Settings.LoadSettings(\"test.json\", \"round_straddle.json\", \"round_straddle.json\");\n",
    "// Console.WriteLine(Settings.SETTINGS.GetProperty(\"name\").ToString());\n",
    "\n"
   ]
  },
  {
   "cell_type": "code",
   "execution_count": null,
   "metadata": {
    "dotnet_interactive": {
     "language": "csharp"
    },
    "polyglot_notebook": {
     "kernelName": "csharp"
    }
   },
   "outputs": [],
   "source": [
    " public class GameHeroCards\n",
    "    {\n",
    "        [JsonPropertyName(\"Card1\")]\n",
    "        public string Card1;\n",
    "\n",
    "        [JsonPropertyName(\"Card2\")]\n",
    "        public string Card2;\n",
    "    }\n",
    "\n",
    "    public class GameSeat\n",
    "    {\n",
    "        [JsonPropertyName(\"Seat\")]\n",
    "        public int Seat { get; set; }\n",
    "\n",
    "        [JsonPropertyName(\"UUID\")]\n",
    "        public int UUID { get; set; }\n",
    "\n",
    "        [JsonPropertyName(\"sID\")]\n",
    "        public string sID { get; set; }\n",
    "\n",
    "        [JsonPropertyName(\"GState\")]\n",
    "        public int GState { get; set; }\n",
    "\n",
    "        [JsonPropertyName(\"GameRole\")]\n",
    "        public int GameRole { get; set; }\n",
    "\n",
    "        [JsonPropertyName(\"Stack\")]\n",
    "        public double Stack { get; set; }\n",
    "\n",
    "        [JsonPropertyName(\"PAnte\")]\n",
    "        public int PAnte { get; set; }\n",
    "\n",
    "        [JsonPropertyName(\"isA\")]\n",
    "        public int isA { get; set; }\n",
    "\n",
    "        [JsonPropertyName(\"Action\")]\n",
    "        public string Action { get; set; }\n",
    "    }\n",
    "\n",
    "    public class LogcatJsonEntry\n",
    "    {\n",
    "        [JsonPropertyName(\"handID\")]\n",
    "        public int handID { get; set; }\n",
    "\n",
    "        [JsonPropertyName(\"roomGameState\")]\n",
    "        public int roomGameState { get; set; }\n",
    "\n",
    "        [JsonPropertyName(\"heroID\")]\n",
    "        public int heroID { get; set; }\n",
    "\n",
    "        [JsonPropertyName(\"bigBlind\")]\n",
    "        public int bigBlind { get; set; }\n",
    "\n",
    "        [JsonPropertyName(\"seats\")]\n",
    "        public List<GameSeat> seats { get; set; }\n",
    "\n",
    "        [JsonPropertyName(\"heroCards\")]\n",
    "        public GameHeroCards heroCards { get; set; }\n",
    "\n",
    "        [JsonPropertyName(\"heroGameState\")]\n",
    "        public string heroGameState { get; set; }\n",
    "    }"
   ]
  },
  {
   "cell_type": "code",
   "execution_count": null,
   "metadata": {
    "dotnet_interactive": {
     "language": "csharp"
    },
    "polyglot_notebook": {
     "kernelName": "csharp"
    }
   },
   "outputs": [],
   "source": [
    "public static double Round_Stack(int players_count, double stack, bool withStraddle)\n",
    "{\n",
    "    \n",
    "    var array = withStraddle ? Settings.ROUND_STRADDLE_INFO : Settings.ROUND_INFO;\n",
    "    var element = array.GetProperty(players_count.ToString()).EnumerateArray()\n",
    "        .FirstOrDefault(value => stack >= value.GetProperty(\"min\").GetDouble() && stack <= value.GetProperty(\"max\").GetDouble());\n",
    "    return element.ValueKind != JsonValueKind.Null ? element.GetProperty(\"value\").GetDouble() : 777;\n",
    "}\n",
    "\n",
    "// Console.WriteLine(Round_Stack(6, 15, true));\n",
    "// Console.WriteLine(Round_Stack(3, 211, true));"
   ]
  },
  {
   "cell_type": "code",
   "execution_count": null,
   "metadata": {
    "dotnet_interactive": {
     "language": "csharp"
    },
    "polyglot_notebook": {
     "kernelName": "csharp"
    },
    "tags": [
     "FILE.IO"
    ]
   },
   "outputs": [],
   "source": [
    "double bb_multi = 1.0;\n",
    "\n",
    "string jsonString = \"{\\\"heroID\\\":3641664,\\\"heroGameState\\\":\\\"\\\",\\\"heroCards\\\":{},\\\"roomGameState\\\":7,\\\"seats\\\":[{\\\"sID\\\":\\\"6007696769\\\",\\\"UUID\\\":2462703,\\\"GameRole\\\":1,\\\"isA\\\":1,\\\"PAnte\\\":400,\\\"Stack\\\":0,\\\"Action\\\":\\\"R\\\",\\\"GState\\\":10,\\\"Seat\\\":3},{\\\"sID\\\":\\\"7121840883\\\",\\\"UUID\\\":2917423,\\\"GameRole\\\":2,\\\"isA\\\":0,\\\"PAnte\\\":420,\\\"Stack\\\":8440,\\\"Action\\\":\\\"R\\\",\\\"GState\\\":10,\\\"Seat\\\":4},{\\\"sID\\\":\\\"8869944905\\\",\\\"UUID\\\":3635269,\\\"GameRole\\\":3,\\\"isA\\\":0,\\\"PAnte\\\":440,\\\"Stack\\\":7560,\\\"Action\\\":\\\"F\\\",\\\"GState\\\":5,\\\"Seat\\\":5}],\\\"bigBlind\\\":40,\\\"handID\\\":41}\";\n",
    "\n",
    "LogcatJsonEntry? jsonEntry = JsonSerializer.Deserialize<LogcatJsonEntry>(jsonString);\n",
    "\n",
    "Console.WriteLine(jsonEntry.seats.Select(seat => { if (seat.GameRole==1) { return seat;} else{return null;}}).ToList<GameSeat>()[0]);\n",
    "\n",
    "bool withStraddle = jsonEntry.seats.Any(seat => seat.GameRole == 5);\n",
    "jsonEntry.seats = jsonEntry.seats.Select(seat =>\n",
    "{\n",
    "    seat.Stack = seat.Stack != 0 ? Round_Stack(jsonEntry.seats.Count, Math.Round((seat.Stack / jsonEntry.bigBlind) * bb_multi), withStraddle) : 0;\n",
    "    return seat;\n",
    "}).ToList();\n",
    "\n",
    "jsonEntry.seats = jsonEntry.seats.Select(seat =>\n",
    "{\n",
    "    seat.PAnte /= jsonEntry.bigBlind;\n",
    "    return seat;\n",
    "}).ToList();\n",
    "\n",
    "List<GameSeat> temp_sort_stack_seats = new(jsonEntry.seats.ToArray());\n",
    "temp_sort_stack_seats.Sort((p, q) => p.Stack.CompareTo(q.Stack));\n",
    "temp_sort_stack_seats.Reverse();\n",
    "jsonEntry.seats.Find(x => x.UUID == temp_sort_stack_seats[0].UUID).Stack = temp_sort_stack_seats[1].Stack;\n",
    "temp_sort_stack_seats = null;\n",
    "\n",
    "\n",
    "\n",
    "\n",
    "\n",
    "\n"
   ]
  },
  {
   "cell_type": "code",
   "execution_count": null,
   "metadata": {
    "dotnet_interactive": {
     "language": "csharp"
    },
    "polyglot_notebook": {
     "kernelName": "csharp"
    }
   },
   "outputs": [],
   "source": [
    "using System.Text.Json;\n",
    "using System.Text.Json.Serialization;\n",
    "using System.Collections.Generic;\n",
    "using System.Data;\n",
    "using System.IO;\n",
    "\n",
    "var dt = new DataTable();\n",
    "dt.Columns.Add(new DataColumn(\"ActNum\", typeof(int)) { AllowDBNull = true });\n",
    "dt.Columns.Add(new DataColumn(\"sID\", typeof(long)) { AllowDBNull = true });\n",
    "dt.Columns.Add(new DataColumn(\"Stack\", typeof(int)) { AllowDBNull = true });\n",
    "dt.Columns.Add(new DataColumn(\"PAnte\", typeof(double)) { AllowDBNull = true });\n",
    "dt.Columns.Add(new DataColumn(\"isA\", typeof(int)) { AllowDBNull = true });\n",
    "dt.Columns.Add(new DataColumn(\"Action\", typeof(string)) { AllowDBNull = true });\n",
    "dt.Columns.Add(new DataColumn(\"Cards\", typeof(string)) { AllowDBNull = true });\n",
    "dt.Columns.Add(new DataColumn(\"Hero\", typeof(string)) { AllowDBNull = true });\n",
    "dt.Columns.Add(new DataColumn(\"HandID\", typeof(int)) { AllowDBNull = true });\n",
    "dt.Columns.Add(new DataColumn(\"Ev\", typeof(string)) { AllowDBNull = true });\n",
    "dt.Columns.Add(new DataColumn(\"Pb\", typeof(int)) { AllowDBNull = true });\n",
    "\n",
    "dt.PrimaryKey = new DataColumn[] { dt.Columns[\"sID\"] };\n",
    "dt.DefaultView.Sort = \"ActNum ASC\";\n",
    "\n",
    "int meHeroIndex = 2;\n",
    "\n",
    "List<DataRow> orderedList = new List<DataRow>();\n",
    "\n",
    "DataRow row1 = dt.NewRow();\n",
    "row1[\"ActNum\"] = 1;\n",
    "row1[\"sID\"] = 11;\n",
    "row1[\"Stack\"] = 10;\n",
    "row1[\"PAnte\"] = 2.5;\n",
    "row1[\"isA\"] = 1;\n",
    "row1[\"Action\"] = \"R\";\n",
    "row1[\"Cards\"] = \"AsKs\";\n",
    "row1[\"Hero\"] = \"\";\n",
    "row1[\"HandID\"] = 1;\n",
    "row1[\"Ev\"] = \"0.5\";\n",
    "row1[\"Pb\"] = 70;\n",
    "orderedList.Add(row1);\n",
    "\n",
    "DataRow row2 = dt.NewRow();\n",
    "row2[\"ActNum\"] = 2;\n",
    "row2[\"sID\"] = 12;\n",
    "row2[\"Stack\"] = 15;\n",
    "row2[\"PAnte\"] = 0.0;\n",
    "row2[\"isA\"] = 0;\n",
    "row2[\"Action\"] = \"R\";\n",
    "row2[\"Cards\"] = \"Qh9h\";\n",
    "row2[\"Hero\"] = \"Hero\";\n",
    "row2[\"HandID\"] = 1;\n",
    "row2[\"Ev\"] = \"-0.5\";\n",
    "row2[\"Pb\"] = 30;\n",
    "orderedList.Add(row2);\n",
    "\n",
    "//-- current\n",
    "DataRow row3 = dt.NewRow();\n",
    "row3[\"ActNum\"] = 3;\n",
    "row3[\"sID\"] = 13;\n",
    "row3[\"Stack\"] = 20;\n",
    "row3[\"PAnte\"] = 0.0;\n",
    "row3[\"isA\"] = 0;\n",
    "row3[\"Action\"] = \"\";\n",
    "row3[\"Cards\"] = \"5c5d\";\n",
    "row3[\"Hero\"] = \"Hero\";\n",
    "row3[\"HandID\"] = 1;\n",
    "row3[\"Ev\"] = \"0.0\";\n",
    "row3[\"Pb\"] = 0;\n",
    "orderedList.Add(row3);\n",
    "\n",
    "DataRow row4 = dt.NewRow();\n",
    "row4[\"ActNum\"] = 4;\n",
    "row4[\"sID\"] = 14;\n",
    "row4[\"Stack\"] = 20;\n",
    "row4[\"PAnte\"] = 0.0;\n",
    "row4[\"isA\"] = 1;\n",
    "row4[\"Action\"] = \"\";\n",
    "row4[\"Cards\"] = \"\";\n",
    "row4[\"Hero\"] = \"\";\n",
    "row4[\"HandID\"] = 1;\n",
    "row4[\"Ev\"] = \"0.5\";\n",
    "row4[\"Pb\"] = 70;\n",
    "orderedList.Add(row4);\n",
    "\n",
    "DataRow row5 = dt.NewRow();\n",
    "row5[\"ActNum\"] = 5;\n",
    "row5[\"sID\"] = 15;\n",
    "row5[\"Stack\"] = 15;\n",
    "row5[\"PAnte\"] = 0.0;\n",
    "row5[\"isA\"] = 0;\n",
    "row5[\"Action\"] = \"R\";\n",
    "row5[\"Cards\"] = \"Jc8s\";\n",
    "row5[\"Hero\"] = \"Hero\";\n",
    "row5[\"HandID\"] = 1;\n",
    "row5[\"Ev\"] = \"-0.5\";\n",
    "row5[\"Pb\"] = 30;\n",
    "orderedList.Add(row5);\n",
    "\n",
    "DataRow row6 = dt.NewRow();\n",
    "row6[\"ActNum\"] = 6;\n",
    "row6[\"sID\"] = 16;\n",
    "row6[\"Stack\"] = 10;\n",
    "row6[\"PAnte\"] = 2.5;\n",
    "row6[\"isA\"] = 0;\n",
    "row6[\"Action\"] = \"\";\n",
    "row6[\"Cards\"] = \"\";\n",
    "row6[\"Hero\"] = \"\";\n",
    "row6[\"HandID\"] = 1;\n",
    "row6[\"Ev\"] = \"0.0\";\n",
    "row6[\"Pb\"] = 0;\n",
    "orderedList.Add(row6);\n",
    "\n",
    "\n",
    "// Пройдіться по всіх рядках таблиці та виведіть значення кожної колонки\n",
    "foreach (DataRow row in orderedList)\n",
    "{\n",
    "    foreach (DataColumn col in dt.Columns)\n",
    "    {\n",
    "        Console.Write(row[col] + \"\\t\");\n",
    "    }\n",
    "    Console.WriteLine();\n",
    "}\n",
    "\n",
    "// Виведіть роздільник між рядками\n",
    "Console.WriteLine(\"---------------------------------------------\");\n",
    "\n"
   ]
  },
  {
   "cell_type": "code",
   "execution_count": null,
   "metadata": {
    "dotnet_interactive": {
     "language": "csharp"
    },
    "polyglot_notebook": {
     "kernelName": "csharp"
    }
   },
   "outputs": [],
   "source": [
    "// GET SUBSET FROM ME HERO TO BOTTOM OF NOT HEROES WITH IT ACT NUMS\n",
    "List<DataRow> bottomNonActionPlayers = orderedList.Skip(meHeroIndex).Where(dataRow => dataRow.Field<string>(\"Action\") == \"\").ToList();\n",
    "List<int> actNumIndexes = bottomNonActionPlayers.Select(row =>  int.Parse(row.ItemArray[0].ToString())).ToList();                                    \n",
    "\n",
    "// DEBUG\n",
    "foreach (DataRow row in bottomNonActionPlayers)\n",
    "{\n",
    "    foreach (DataColumn col in row.Table.Columns)\n",
    "    {\n",
    "        Console.Write(row[col] + \"\\t\");\n",
    "    }\n",
    "    Console.WriteLine();\n",
    "}\n",
    "\n",
    "Console.WriteLine(string.Join(\", \", actNumIndexes));"
   ]
  },
  {
   "cell_type": "code",
   "execution_count": null,
   "metadata": {
    "dotnet_interactive": {
     "language": "csharp"
    },
    "polyglot_notebook": {
     "kernelName": "csharp"
    }
   },
   "outputs": [],
   "source": [
    "// GENERATION ALL POSIBLE ACTION VARIANTS\n",
    "private static void GetAllPossibleActions(List<List<string>> result, List<string> temp, int length)\n",
    "{\n",
    "    if (temp.Count == length)\n",
    "    {\n",
    "        result.Add(new List<string>(temp));\n",
    "        return;\n",
    "    }\n",
    "\n",
    "    foreach (string option in new string[] { \"R\", \"F\" })\n",
    "    {\n",
    "        temp.Add(option);\n",
    "        GetAllPossibleActions(result, temp, length);\n",
    "        temp.RemoveAt(temp.Count - 1);\n",
    "    }\n",
    "}\n",
    "\n",
    "List<List<string>> actionVariants = new List<List<string>>();    \n",
    "GetAllPossibleActions(actionVariants, new List<string>(), bottomNonActionPlayers.Count());\n",
    "\n",
    "// DEBUG\n",
    "Console.WriteLine(\"All possible combinations (Count): \" + actionVariants.Count);\n",
    "foreach (List<string> actionVariants in actionVariants)\n",
    "{\n",
    "    Console.WriteLine(String.Join(\", \", actionVariants));\n",
    "}"
   ]
  },
  {
   "cell_type": "code",
   "execution_count": null,
   "metadata": {
    "dotnet_interactive": {
     "language": "csharp"
    },
    "polyglot_notebook": {
     "kernelName": "csharp"
    }
   },
   "outputs": [],
   "source": [
    "using System.Reflection;\n",
    "\n",
    "public static List<List<DataRow>> FillAllPossibleTables(List<List<string>> actionVariants, List<DataRow> origTable, List<int> replaceRowIndexes)\n",
    "{\n",
    "    var result = new List<List<DataRow>>();\n",
    "\n",
    "    foreach(var actionVariant in actionVariants){ // actionVariant = { r, f , f}\n",
    "        \n",
    "        // deep copy orig table\n",
    "        List<DataRow> variantTable = new List<DataRow>();\n",
    "\n",
    "        foreach (DataRow row in origTable)\n",
    "        {\n",
    "            DataRow clonedRow = row.Table.NewRow(); // створення нового DataRow\n",
    "            clonedRow.ItemArray = row.ItemArray.Clone() as object[]; // глибока копія значень властивостей\n",
    "            variantTable.Add(clonedRow);\n",
    "        }\n",
    "        //------------------------\n",
    "\n",
    "        Console.WriteLine(\"actionVariant: \" +  string.Join(\", \",actionVariant));\n",
    "\n",
    "        foreach( var (replaceRowIndex, index) in replaceRowIndexes.Select((value, i) => (value, i))){\n",
    "            \n",
    "            variantTable.FirstOrDefault(dataRow => dataRow.Field<int>(\"ActNum\") == replaceRowIndex)[\"Action\"] = actionVariant[index];\n",
    "            \n",
    "            // Console.WriteLine(\"origTable row at index (\" + index + \")    \" + string.Join(\", \", replaceRowIndex)            \n",
    "            // + \"     variantTable Action: \" + variantTable.FirstOrDefault(dataRow => dataRow.Field<int>(\"ActNum\") == replaceRowIndex)[\"Action\"]\n",
    "            \n",
    "            // );\n",
    "        }\n",
    "        result.Add(variantTable);\n",
    "    }\n",
    "\n",
    "    return result;\n",
    "}\n",
    "\n",
    "List<List<DataRow>> res = FillAllPossibleTables(actionVariants, orderedList, actNumIndexes);\n",
    "\n",
    "\n",
    "// string HandID = \"12\";\n",
    "// string filePath = @\"\"+HandID+\"\\\\Tables.txt\";\n",
    "// string directoryPath = Path.GetDirectoryName(filePath);\n",
    "// if (!Directory.Exists(directoryPath))\n",
    "// {\n",
    "//     Directory.CreateDirectory(directoryPath);\n",
    "// }\n",
    "\n",
    "// // Відкриваємо файл для запису\n",
    "// using (StreamWriter writer = new StreamWriter(filePath))\n",
    "// {\n",
    "//     // DEBUG\n",
    "//     foreach (List<DataRow> list in res)\n",
    "//     {\n",
    "//         writer.WriteLine(\"----------------------------------------------------------------\\n\");\n",
    "//         var dt1 = new DataTable();\n",
    "//         dt1.Columns.Add(new DataColumn(\"ActNum\", typeof(int)) { AllowDBNull = true });\n",
    "//         dt1.Columns.Add(new DataColumn(\"sID\", typeof(long)) { AllowDBNull = true });\n",
    "//         dt1.Columns.Add(new DataColumn(\"Stack\", typeof(int)) { AllowDBNull = true });\n",
    "//         dt1.Columns.Add(new DataColumn(\"PAnte\", typeof(double)) { AllowDBNull = true });\n",
    "//         dt1.Columns.Add(new DataColumn(\"isA\", typeof(int)) { AllowDBNull = true });\n",
    "//         dt1.Columns.Add(new DataColumn(\"Action\", typeof(string)) { AllowDBNull = true });\n",
    "//         dt1.Columns.Add(new DataColumn(\"Cards\", typeof(string)) { AllowDBNull = true });\n",
    "//         dt1.Columns.Add(new DataColumn(\"Hero\", typeof(string)) { AllowDBNull = true });\n",
    "//         dt1.Columns.Add(new DataColumn(\"HandID\", typeof(int)) { AllowDBNull = true });\n",
    "//         dt1.Columns.Add(new DataColumn(\"Ev\", typeof(string)) { AllowDBNull = true });\n",
    "//         dt1.Columns.Add(new DataColumn(\"Pb\", typeof(int)) { AllowDBNull = true });\n",
    "        \n",
    "//         foreach (var (row, index) in list.Select((value, i) => (value, i)))\n",
    "//         {\n",
    "//             writer.WriteLine($\"{row[\"ActNum\"],-1}, {row[\"sID\"],-2}, {row[\"Stack\"],-2}, {row[\"PAnte\"],-3}, {row[\"isA\"],-5}, {row[\"Action\"],-5}, {row[\"Cards\"],-5}, {row[\"Hero\"],-5}, {row[\"HandID\"],-5}, {row[\"Ev\"],-5}, {row[\"Pb\"],-5}\");\n",
    "//         }\n",
    "//         writer.WriteLine(\"----------------------------------------------------------------\\n\");\n",
    "//     }\n",
    "// }\n",
    "\n",
    "\n",
    "// Console.WriteLine(\"Count: \" + res.Count);\n",
    "// Console.WriteLine(string.Join(\", \", actNumIndexes));\n",
    "\n",
    "// DEBUG\n",
    "foreach (List<DataRow> list in res)\n",
    "{\n",
    "    Console.WriteLine(\"----------------------------------------------------------------\\n\");\n",
    "    var dt1 = new DataTable();\n",
    "    dt1.Columns.Add(new DataColumn(\"ActNum\", typeof(int)) { AllowDBNull = true });\n",
    "    dt1.Columns.Add(new DataColumn(\"sID\", typeof(long)) { AllowDBNull = true });\n",
    "    dt1.Columns.Add(new DataColumn(\"Stack\", typeof(int)) { AllowDBNull = true });\n",
    "    dt1.Columns.Add(new DataColumn(\"PAnte\", typeof(double)) { AllowDBNull = true });\n",
    "    dt1.Columns.Add(new DataColumn(\"isA\", typeof(int)) { AllowDBNull = true });\n",
    "    dt1.Columns.Add(new DataColumn(\"Action\", typeof(string)) { AllowDBNull = true });\n",
    "    dt1.Columns.Add(new DataColumn(\"Cards\", typeof(string)) { AllowDBNull = true });\n",
    "    dt1.Columns.Add(new DataColumn(\"Hero\", typeof(string)) { AllowDBNull = true });\n",
    "    dt1.Columns.Add(new DataColumn(\"HandID\", typeof(int)) { AllowDBNull = true });\n",
    "    dt1.Columns.Add(new DataColumn(\"Ev\", typeof(string)) { AllowDBNull = true });\n",
    "    dt1.Columns.Add(new DataColumn(\"Pb\", typeof(int)) { AllowDBNull = true });\n",
    "    \n",
    "    foreach (var (row, index) in list.Select((value, i) => (value, i)))\n",
    "    {\n",
    "        if (actNumIndexes.Contains(index+1)){\n",
    "            Console.WriteLine($\"\\u001b[31m{row[\"ActNum\"],-1}, {row[\"sID\"],-2}, {row[\"Stack\"],-2}, {row[\"PAnte\"],-3}, {row[\"isA\"],-5}, {row[\"Action\"],-5}, {row[\"Cards\"],-5}, {row[\"Hero\"],-5}, {row[\"HandID\"],-5}, {row[\"Ev\"],-5}, {row[\"Pb\"],-5}\\u001b[0m\");\n",
    "\n",
    "        }else{\n",
    "            Console.WriteLine($\"{row[\"ActNum\"],-1}, {row[\"sID\"],-2}, {row[\"Stack\"],-2}, {row[\"PAnte\"],-3}, {row[\"isA\"],-5}, {row[\"Action\"],-5}, {row[\"Cards\"],-5}, {row[\"Hero\"],-5}, {row[\"HandID\"],-5}, {row[\"Ev\"],-5}, {row[\"Pb\"],-5}\");\n",
    "\n",
    "        }\n",
    "    }\n",
    "\n",
    "    Console.WriteLine(\"----------------------------------------------------------------\\n\");\n",
    "\n",
    "}\n"
   ]
  },
  {
   "cell_type": "code",
   "execution_count": null,
   "metadata": {
    "dotnet_interactive": {
     "language": "csharp"
    },
    "polyglot_notebook": {
     "kernelName": "csharp"
    }
   },
   "outputs": [],
   "source": [
    "\n"
   ]
  },
  {
   "cell_type": "code",
   "execution_count": null,
   "metadata": {
    "dotnet_interactive": {
     "language": "csharp"
    },
    "polyglot_notebook": {
     "kernelName": "csharp"
    }
   },
   "outputs": [],
   "source": [
    "\n",
    "using System;\n",
    "using System.Collections.Generic;\n",
    "using System.Runtime.InteropServices;\n",
    "\n",
    " [DllImport(@\"C:\\DEV\\POKER\\PokerKingPrev\\PokerKingTeam\\OMPEvalLib\\x64\\Debug\\OMPEvalLib.dll\", CallingConvention = CallingConvention.StdCall)]\n",
    "        public static extern IntPtr Calculate(string[] cardRanges,\n",
    "                                            int cardsCount,\n",
    "                                            string boardCard,\n",
    "                                            string dCard,\n",
    "                                            double stdErrMarginPercent,\n",
    "                                            double calculationTimeSec,\n",
    "                                            double updateInterval,\n",
    "                                            int threads,\n",
    "                                            bool useEnumerateInsteadMonteCarlo\n",
    "                                          );\n",
    "\n",
    "\n",
    "double  firstPot = 32; // 0\n",
    "string dCard = \"5h5c5d5s\"; // \"\"\n",
    "\n",
    "//-- EQUITY actNum - stackStart - stackEnd_plus_num - cards\n",
    "List<(int actNum, double stackStart, double stackEnd_plus_num, string cards)> stackStartStackEndPairs = new(){\n",
    "    (1, 70, 0, \"As2s\"),\n",
    "    (2, 40, 0, \"KdKs\"),\n",
    "    (3, 100, 0, \"3s3d\")\n",
    "};\n",
    "\n",
    "int round = 1; // first round\n",
    "bool anyMoreZero = stackStartStackEndPairs.Any(p => p.Item2 > 0); // if have stacks > 0\n",
    "bool run = true;\n",
    "\n",
    "// запускаем цикл пока чей-то стек больше 0\n",
    "while (anyMoreZero && run ){\n",
    "    double pot = 0; // bank\n",
    "\n",
    "    // если это первый банк добавляем в pot firstPot\n",
    "    if (round==1){\n",
    "        pot += firstPot;\n",
    "    }\n",
    "    \n",
    "    // если в цикле остался 1 игрок, переливаем его стекСтарт в стекЕнд + pot\n",
    "    int countPlayers = 0;\n",
    "    int num = 0;\n",
    "\n",
    "    foreach (var stack in stackStartStackEndPairs){\n",
    "\n",
    "        num = stack.Item1; // actNum\n",
    "        if (stack.Item2 !=0){ // stackStart\n",
    "            countPlayers+=1;\n",
    "        }\n",
    "       \n",
    "    }\n",
    "\n",
    "    //-- if only 1 element in stackStartStackEndPairs\n",
    "    if (countPlayers==1){\n",
    "        var pair = stackStartStackEndPairs.FirstOrDefault(p => p.Item2 > 0 );\n",
    "        // stackEnd_plus_num    stackStart\n",
    "        pair.Item3            = pair.Item2 + pot;\n",
    "        run = false;\n",
    "        break;\n",
    "    }\n",
    "\n",
    "    // Определяем наименьший стек with != 0\n",
    "    var stackMin = stackStartStackEndPairs.Where(p => p.Item2 != 0)\n",
    "                     .OrderBy(p => p.Item2)\n",
    "                     .Select(p => p.Item3)\n",
    "                     .FirstOrDefault();\n",
    "\n",
    "    // Формируем пот и кидаем карты в калькулятор\n",
    "    List<(int actNum, double stackStart, double stackEnd_plus_num, string cards)> modifiedPairs = new();\n",
    "    foreach (var pair in stackStartStackEndPairs)\n",
    "    {\n",
    "           // stackStart\n",
    "        if (pair.Item2 != 0){ \n",
    "            pot += stackMin;             // stackStart\n",
    "            modifiedPairs.Add((pair.Item1, pair.Item2 - stackMin, pair.Item3, pair.Item4));\n",
    "        }else{\n",
    "            modifiedPairs.Add((pair.Item1, pair.Item2, pair.Item3, pair.Item4));\n",
    "        }\n",
    "    }\n",
    "    stackStartStackEndPairs = modifiedPairs;\n",
    "\n",
    "\n",
    "    // filter elements with stackStar != 0\n",
    "    List<(int actNum, double stackStart, double stackEnd_plus_num, string cards)> elementsForEquity = stackStartStackEndPairs.Where(p => p.Item2 != 0).ToList();\n",
    "    \n",
    "    // cards list for equity calc\n",
    "    List<string> cardsListEquity = elementsForEquity.Select(p => p.Item4).ToList<string>();\n",
    "\n",
    "    //-- CALL CALC\n",
    "    // ADD CARDS, ADD dCard, \n",
    "    // CALC EQ \n",
    "\n",
    "    var res = Calculate(cardRanges: cardsListEquity.ToArray(),          // card ranges list\n",
    "                                cardsCount: cardsListEquity.Count,      // card ranges count\n",
    "                                boardCard: \"\",                          // board card mask\n",
    "                                dCard: dCard,                           // d card\n",
    "                                stdErrMarginPercent: 0.02,              // stop calcualte when standard error below 0.002% \n",
    "                                calculationTimeSec: 1.0,                // calcualte during 1 sec\n",
    "                                updateInterval: 0.25,                   // 0.25 sec update interval\n",
    "                                threads: 0,                             // max\n",
    "                                useEnumerateInsteadMonteCarlo: false    // use enumerate instead montecarlo\n",
    "                                );\n",
    "\n",
    "    double[] returnArray = new double[6];\n",
    "    Marshal.Copy(res, returnArray, 0, 6);\n",
    "\n",
    "    // задаем стекЕнд по еквити\n",
    "    List<(int actNum, double stackStart, double stackEnd_plus_num, string cards)> modifiedPairs2 = new();\n",
    "\n",
    "    foreach (var (pair, index) in stackStartStackEndPairs.Select((value, i) => (value, i)))\n",
    "    {\n",
    "                                                         // stackEnd\n",
    "        modifiedPairs2.Add((pair.Item1, pair.Item2, pot * returnArray[index], pair.Item4));\n",
    "    }\n",
    "    stackStartStackEndPairs = modifiedPairs2;\n",
    "\n",
    "    round+=1;\n",
    "}\n",
    "\n",
    "\n",
    "\n",
    "\n",
    "\n"
   ]
  },
  {
   "cell_type": "code",
   "execution_count": 96,
   "metadata": {
    "dotnet_interactive": {
     "language": "csharp"
    },
    "polyglot_notebook": {
     "kernelName": "csharp"
    }
   },
   "outputs": [
    {
     "data": {
      "text/html": [
       "<div><div><strong>Restore sources</strong><ul><li><span>https://www.myget.org/F/gregs-experimental-packages/api/v3/index.json</span></li></ul></div><div></div><div><strong>Installed Packages</strong><ul><li><span>Deedle, 3.0.0</span></li><li><span>Deedle.DotNet.Interactive.Extension, 0.1.0-alpha9</span></li><li><span>Microsoft.Data.Analysis, 0.4.0</span></li><li><span>XPlot.Plotly, 4.0.6</span></li></ul></div></div>"
      ]
     },
     "metadata": {},
     "output_type": "display_data"
    },
    {
     "data": {
      "text/plain": [
       "Loading extensions from `C:\\Users\\Lion\\.nuget\\packages\\deedle.dotnet.interactive.extension\\0.1.0-alpha9\\interactive-extensions\\dotnet\\Deedle.DotNet.Interactive.Extension.dll`"
      ]
     },
     "metadata": {},
     "output_type": "display_data"
    },
    {
     "data": {
      "text/plain": [
       "Added DeedleFormatterExtension including formatters for Frame and Series"
      ]
     },
     "metadata": {},
     "output_type": "display_data"
    }
   ],
   "source": [
    "//--------------------------------------------------------------- COINS\n",
    "#r \"nuget:Deedle\"\n",
    "#i \"nuget:https://www.myget.org/F/gregs-experimental-packages/api/v3/index.json\"\n",
    "#r \"nuget: Deedle.DotNet.Interactive.Extension,0.1.0-alpha9\"\n",
    "#r \"nuget:Microsoft.Data.Analysis\"\n",
    "#r \"nuget:XPlot.Plotly\"\n"
   ]
  },
  {
   "cell_type": "code",
   "execution_count": 127,
   "metadata": {
    "dotnet_interactive": {
     "language": "csharp"
    },
    "polyglot_notebook": {
     "kernelName": "csharp"
    }
   },
   "outputs": [
    {
     "name": "stdout",
     "output_type": "stream",
     "text": [
      "Кількість рядків: 4341245\r\n"
     ]
    }
   ],
   "source": [
    "using System.IO;\n",
    "using System.Globalization;\n",
    "using System.Linq;\n",
    "using Deedle;\n",
    "using Deedle.Vectors;\n",
    "using XPlot.Plotly;\n",
    "using Microsoft.Data.Analysis;\n",
    "using Microsoft.AspNetCore.Html;\n",
    "\n",
    "// CSV-файл\n",
    "var csvPath = \"btcusdt_datetime.csv\";\n",
    "\n",
    "// Зчитуємо дані з CSV файлу та зберігаємо їх у Data.Frame\n",
    "var csv = Frame.ReadCsv(\n",
    "    csvPath,\n",
    "    separators: \",\",\n",
    "    hasHeaders: true\n",
    ");\n",
    "\n",
    "csv.RenameColumns(new string[]\n",
    "{\n",
    "    \"open\",\"close\",\"high\",\"low\",\"volume\",\"time\"\n",
    "});\n",
    "\n",
    "csv.IndexRows<DateTime>(\"time\");\n",
    "\n",
    "\n",
    "\n",
    "\n",
    "\n",
    "\n",
    "// var dateTimes = csv.Rows.Select(row => DateTimeOffset.FromUnixTimeMilliseconds(row.Value.GetAs<Int64>(\"time\")).UtcDateTime );\n",
    "// // Replace the original timestamp column with the new DateTime column\n",
    "// csv.ReplaceColumn(\"time\", dateTimes);\n",
    "// // Export to CSV\n",
    "// using (var writer = new StreamWriter(\"btcusdt_datetime.csv\"))\n",
    "// {\n",
    "//     csv.SaveCsv(writer);\n",
    "// }\n",
    "\n",
    "\n",
    "// return csv;\n",
    "// var priceSeries = csv.GetColumn<double>(\"Price\");\n",
    "// var priceDiffSeries = priceSeries - priceSeries.Shift(1).FillMissing(0);\n",
    "// frame.AddColumn(\"PriceDiff\", priceDiffSeries);\n",
    "\n",
    "\n",
    "\n",
    "// // Додаємо новий стовпець з різницею в ціні між попереднім днем\n",
    " \n",
    "// // Перетворюємо стовпець цін в числа з плаваючою точкою\n",
    "// var prices = csv.Rows.Select(row => row.Value.GetAs<double>(\"price\"));\n",
    "// // Створюємо новий стовпець, заповнюємо перший елемент нулем\n",
    "// var priceDifferences = new List<double> { 0 };\n",
    "// // Рахуємо різницю між ціною сьогодні та ціною вчора та додаємо в новий стовпець\n",
    "// for (int i = 1; i < prices.ValueCount; i++)\n",
    "// {\n",
    "//     var difference = prices[i] - prices[i-1];\n",
    "//     priceDifferences.Add(difference);\n",
    "// }\n",
    "// csv.AddColumn(\"PriceChange\", priceDifferences);\n",
    "\n",
    "\n",
    "// var grouped = csv.GroupRowsBy<DateTime>(\"Date\");\n",
    "// return grouped;\n",
    "\n",
    "// Create a new frame with the results\n",
    "// var result = Frame.FromColumns(grouped);\n",
    "\n",
    "    // .Select(group =>\n",
    "    // {\n",
    "    //     var date = group.Key;\n",
    "    //     var maxPrice = group.Max(row => row.GetAs<double>(\"Price\"));\n",
    "    //     var minPrice = group.Min(row => row.GetAs<double>(\"Price\"));\n",
    "    //     return Row.FromTuple(date, maxPrice, minPrice);\n",
    "    // })\n",
    "    // .SortRowsByKey();\n",
    "\n",
    "\n",
    "\n",
    "\n",
    "// Виводимо кількість рядків у DataFrame\n",
    "Console.WriteLine($\"Кількість рядків: {csv.RowCount}\");\n",
    "// Plot\n",
    "// return csv;\n"
   ]
  },
  {
   "cell_type": "code",
   "execution_count": null,
   "metadata": {
    "dotnet_interactive": {
     "language": "csharp"
    },
    "polyglot_notebook": {
     "kernelName": "csharp"
    }
   },
   "outputs": [],
   "source": [
    " // Групуємо дані за днем та п'ятихвилинним інтервалом\n",
    "\n",
    "        // Групуємо дані за днем та п'ятихвилинним інтервалом за допомогою LINQ\n",
    "        var grouped = csv.Rows\n",
    "            .GroupBy(row => new\n",
    "            {\n",
    "                Date = row.Value.GetAs<DateTime>(\"time\").Date,\n",
    "                Interval = TimeSpan.FromMinutes(5) * (int)(row.Value.GetAs<DateTime>(\"time\").TimeOfDay.TotalMinutes / 5)\n",
    "            });\n",
    "            return grouped;\n",
    "            // .Select(group =>\n",
    "            // {\n",
    "            //     var high = group.Max(row => row.GetAs<double>(\"high\"));\n",
    "            //     var low = group.Min(row => row.GetAs<double>(\"low\"));\n",
    "            //     var diff = high - low;\n",
    "            //     return new\n",
    "            //     {\n",
    "            //         Date = group.Key.Date,\n",
    "            //         Interval = group.Key.Interval,\n",
    "            //         PriceDiff = diff > 50 ? 1 : 0\n",
    "            //     };\n",
    "            // });\n",
    "\n"
   ]
  },
  {
   "cell_type": "code",
   "execution_count": 36,
   "metadata": {
    "dotnet_interactive": {
     "language": "csharp"
    },
    "polyglot_notebook": {
     "kernelName": "csharp"
    }
   },
   "outputs": [
    {
     "ename": "Error",
     "evalue": "System.ArgumentException: Column with a key '(Date, Exact, <StartupCode$Deedle>.$Frame+GetColumn@937)' does not exist in the data frame (Parameter 'column')\r\n   at Deedle.Frame`2.safeGetColVector(TColumnKey column_0, Lookup column_1, FSharpFunc`2 column_2) in C:\\Dev\\fslab\\Deedle\\src\\Deedle\\Frame.fs:line 108\r\n   at Deedle.Frame`2.GetColumn[R](TColumnKey column, Lookup lookup) in C:\\Dev\\fslab\\Deedle\\src\\Deedle\\Frame.fs:line 937\r\n   at Deedle.Frame`2.GetColumn[R](TColumnKey column) in C:\\Dev\\fslab\\Deedle\\src\\Deedle\\Frame.fs:line 949\r\n   at Deedle.Frame`2.get_Item(TColumnKey column) in C:\\Dev\\fslab\\Deedle\\src\\Deedle\\Frame.fs:line 903\r\n   at Submission#37.count_50_dollars_volatile_per_day()\r\n   at Submission#37.<<Initialize>>d__0.MoveNext()\r\n--- End of stack trace from previous location ---\r\n   at Microsoft.CodeAnalysis.Scripting.ScriptExecutionState.RunSubmissionsAsync[TResult](ImmutableArray`1 precedingExecutors, Func`2 currentExecutor, StrongBox`1 exceptionHolderOpt, Func`2 catchExceptionOpt, CancellationToken cancellationToken)",
     "output_type": "error",
     "traceback": [
      "System.ArgumentException: Column with a key '(Date, Exact, <StartupCode$Deedle>.$Frame+GetColumn@937)' does not exist in the data frame (Parameter 'column')\r\n",
      "   at Deedle.Frame`2.safeGetColVector(TColumnKey column_0, Lookup column_1, FSharpFunc`2 column_2) in C:\\Dev\\fslab\\Deedle\\src\\Deedle\\Frame.fs:line 108\r\n",
      "   at Deedle.Frame`2.GetColumn[R](TColumnKey column, Lookup lookup) in C:\\Dev\\fslab\\Deedle\\src\\Deedle\\Frame.fs:line 937\r\n",
      "   at Deedle.Frame`2.GetColumn[R](TColumnKey column) in C:\\Dev\\fslab\\Deedle\\src\\Deedle\\Frame.fs:line 949\r\n",
      "   at Deedle.Frame`2.get_Item(TColumnKey column) in C:\\Dev\\fslab\\Deedle\\src\\Deedle\\Frame.fs:line 903\r\n",
      "   at Submission#37.count_50_dollars_volatile_per_day()\r\n",
      "   at Submission#37.<<Initialize>>d__0.MoveNext()\r\n",
      "--- End of stack trace from previous location ---\r\n",
      "   at Microsoft.CodeAnalysis.Scripting.ScriptExecutionState.RunSubmissionsAsync[TResult](ImmutableArray`1 precedingExecutors, Func`2 currentExecutor, StrongBox`1 exceptionHolderOpt, Func`2 catchExceptionOpt, CancellationToken cancellationToken)"
     ]
    }
   ],
   "source": [
    "public void count_50_dollars_volatile_per_day()\n",
    "{\n",
    "        // Конвертуємо стовпець з датами в тип DateTime\n",
    "        csv.AddColumn(\"DateTime\", csv[\"Date\"].Select(dateStr => DateTime.Parse(dateStr.Value.ToString())));\n",
    "        // Перетворення значень нашого стовпця 'Price' в рядки та додавання їх до нового стовпця 'PriceString'\n",
    "        //csv.AddColumn(\"PriceString\", csv[\"Price\"].Select(x => x.Value.ToString())  );\n",
    "\n",
    "\n",
    "}\n",
    "\n",
    "    count_50_dollars_volatile_per_day()"
   ]
  }
 ],
 "metadata": {
  "kernelspec": {
   "display_name": ".NET (C#)",
   "language": "C#",
   "name": ".net-csharp"
  },
  "language_info": {
   "name": "polyglot-notebook"
  },
  "polyglot_notebook": {
   "kernelInfo": {
    "defaultKernelName": "csharp",
    "items": [
     {
      "aliases": [],
      "name": ".NET"
     },
     {
      "aliases": [
       "C#",
       "c#"
      ],
      "languageName": "C#",
      "name": "csharp"
     },
     {
      "aliases": [
       "F#",
       "f#"
      ],
      "languageName": "F#",
      "name": "fsharp"
     },
     {
      "aliases": [],
      "languageName": "HTML",
      "name": "html"
     },
     {
      "aliases": [
       "js"
      ],
      "languageName": "JavaScript",
      "name": "javascript"
     },
     {
      "aliases": [],
      "languageName": "KQL",
      "name": "kql"
     },
     {
      "aliases": [],
      "languageName": "Mermaid",
      "name": "mermaid"
     },
     {
      "aliases": [
       "powershell"
      ],
      "languageName": "PowerShell",
      "name": "pwsh"
     },
     {
      "aliases": [],
      "languageName": "SQL",
      "name": "sql"
     },
     {
      "aliases": [],
      "name": "value"
     },
     {
      "aliases": [
       "frontend"
      ],
      "name": "vscode"
     },
     {
      "aliases": [],
      "name": "webview"
     }
    ]
   }
  }
 },
 "nbformat": 4,
 "nbformat_minor": 2
}
